{
 "cells": [
  {
   "cell_type": "code",
   "execution_count": 48,
   "id": "cede545d",
   "metadata": {},
   "outputs": [
    {
     "data": {
      "text/plain": [
       "array([[0.20846054, 0.48168106, 0.42053804, ..., 0.29423118, 0.40776007,\n",
       "        0.74514439],\n",
       "       [0.9023332 , 0.65206676, 0.08046449, ..., 0.67659699, 0.41244338,\n",
       "        0.23062308],\n",
       "       [0.59529911, 0.27612519, 0.68172998, ..., 0.82754857, 0.27678105,\n",
       "        0.29894817],\n",
       "       ...,\n",
       "       [0.57489516, 0.77782137, 0.6915006 , ..., 0.84629992, 0.48255577,\n",
       "        0.14937382],\n",
       "       [0.64272261, 0.57195532, 0.53934089, ..., 0.4154515 , 0.3381279 ,\n",
       "        0.83200386],\n",
       "       [0.2557776 , 0.75631123, 0.51107757, ..., 0.81500714, 0.06380435,\n",
       "        0.50284429]])"
      ]
     },
     "execution_count": 48,
     "metadata": {},
     "output_type": "execute_result"
    }
   ],
   "source": [
    "import numpy as np\n",
    "import scipy as sp\n",
    "np.random.seed(22)\n",
    "n = 500\n",
    "m = 5000\n",
    "data = np.random.uniform(0, 1, size=(m, n))\n",
    "data.reshape(m, n)"
   ]
  },
  {
   "cell_type": "code",
   "execution_count": 50,
   "id": "78ffced4",
   "metadata": {},
   "outputs": [
    {
     "name": "stdout",
     "output_type": "stream",
     "text": [
      "[0.         0.11111111 0.22222222 0.33333333 0.44444444 0.55555556\n",
      " 0.66666667 0.77777778 0.88888889 1.        ]\n",
      "[68 57 39 53 62 59 59 53 50]\n",
      "[53 62 55 62 57 45 66 52 48]\n",
      "[53 64 57 55 64 52 48 63 44]\n",
      "[70 53 64 45 48 47 50 65 58]\n",
      "[[68. 57. 39. ... 59. 53. 50.]\n",
      " [53. 62. 55. ... 66. 52. 48.]\n",
      " [53. 64. 57. ... 48. 63. 44.]\n",
      " ...\n",
      " [55. 53. 54. ... 59. 63. 59.]\n",
      " [52. 59. 54. ... 61. 44. 59.]\n",
      " [70. 53. 64. ... 50. 65. 58.]]\n"
     ]
    }
   ],
   "source": [
    "sample = np.zeros((m , 9))\n",
    "intervals = np.linspace (0, 1, 10)\n",
    "print(intervals)\n",
    "for i in range (m):\n",
    "    counts, _ = np. histogram (data[i], bins=intervals)\n",
    "    sample[i] = counts\n",
    "    if i in [0,1,2, 4999]:\n",
    "        print(counts)\n",
    "        \n",
    "print(sample)"
   ]
  },
  {
   "cell_type": "code",
   "execution_count": 51,
   "id": "06804ee0",
   "metadata": {},
   "outputs": [
    {
     "data": {
      "text/plain": [
       "[55.55555555555555,\n",
       " 55.55555555555555,\n",
       " 55.55555555555555,\n",
       " 55.55555555555555,\n",
       " 55.55555555555555,\n",
       " 55.55555555555555,\n",
       " 55.55555555555555,\n",
       " 55.55555555555555,\n",
       " 55.55555555555555]"
      ]
     },
     "execution_count": 51,
     "metadata": {},
     "output_type": "execute_result"
    }
   ],
   "source": [
    "p = [1 / 9 for i in range(9)]\n",
    "mcounts = [p[i] * n for i in range(9)]\n",
    "mcounts"
   ]
  },
  {
   "cell_type": "code",
   "execution_count": 52,
   "id": "700ced77",
   "metadata": {},
   "outputs": [
    {
     "data": {
      "text/plain": [
       "array([0.02444444, 0.02888889, 0.03111111, ..., 0.20711111, 0.21111111,\n",
       "       0.21911111])"
      ]
     },
     "execution_count": 52,
     "metadata": {},
     "output_type": "execute_result"
    }
   ],
   "source": [
    "D = (1 / n) * np.sum(np.abs(sample - 55.555555556), axis=1)\n",
    "np.sort(D)"
   ]
  },
  {
   "cell_type": "code",
   "execution_count": 54,
   "id": "01d1b712",
   "metadata": {},
   "outputs": [
    {
     "data": {
      "text/plain": [
       "array([0.13688889, 0.14711111, 0.16888889])"
      ]
     },
     "execution_count": 54,
     "metadata": {},
     "output_type": "execute_result"
    }
   ],
   "source": [
    "alpha_ = [0.1, 0.05, 0.01]\n",
    "quantiles_alpha = np.quantile(D, [1 - alpha for alpha in alpha_ ], method ='nearest')\n",
    "quantiles_alpha"
   ]
  },
  {
   "cell_type": "code",
   "execution_count": 57,
   "id": "47db9474",
   "metadata": {},
   "outputs": [
    {
     "data": {
      "text/plain": [
       "0.098666666664"
      ]
     },
     "execution_count": 57,
     "metadata": {},
     "output_type": "execute_result"
    }
   ],
   "source": [
    "np.random.seed(100)\n",
    "data1 = np.random.uniform(0, 1, n)\n",
    "counts1, _ = np.histogram(data1, bins=intervals)\n",
    "D1 = (1 / n) * np.sum(np.abs(counts1 - 55.555555556))\n",
    "D1"
   ]
  },
  {
   "cell_type": "code",
   "execution_count": 61,
   "id": "057b6073",
   "metadata": {},
   "outputs": [
    {
     "data": {
      "text/plain": [
       "0.520888888888"
      ]
     },
     "execution_count": 61,
     "metadata": {},
     "output_type": "execute_result"
    }
   ],
   "source": [
    "np.random.seed(99)\n",
    "ksi = np.random.uniform(0, 1, n)\n",
    "data2 = np.sqrt(ksi)\n",
    "counts2, _ = np.histogram(data2, bins=intervals )\n",
    "D2 = (1 / n) * np.sum(np.abs(counts2 - 55.555555556))\n",
    "D2"
   ]
  },
  {
   "cell_type": "code",
   "execution_count": 64,
   "id": "2ac388b8",
   "metadata": {},
   "outputs": [
    {
     "data": {
      "text/plain": [
       "0.512888888888"
      ]
     },
     "execution_count": 64,
     "metadata": {},
     "output_type": "execute_result"
    }
   ],
   "source": [
    "np.random.seed(98)\n",
    "ksi = np.random.uniform(0, 1, n)\n",
    "data3 = 1 - np.sqrt(ksi)\n",
    "counts3, _ = np.histogram(data3, bins = intervals )\n",
    "D3 = (1 / n) * np.sum(np.abs(counts3 - 55.555555556))\n",
    "D3"
   ]
  },
  {
   "cell_type": "code",
   "execution_count": 65,
   "id": "998268ea",
   "metadata": {},
   "outputs": [
    {
     "data": {
      "text/plain": [
       "0.7315555555600001"
      ]
     },
     "execution_count": 65,
     "metadata": {},
     "output_type": "execute_result"
    }
   ],
   "source": [
    "data4 = np.random.beta(0.25, 0.75, n)\n",
    "counts4, _ = np.histogram(data4, bins=intervals )\n",
    "D4 = (1 / n) * np.sum(np.abs(counts4 - 55.555555556))\n",
    "D4"
   ]
  }
 ],
 "metadata": {
  "kernelspec": {
   "display_name": "Python 3 (ipykernel)",
   "language": "python",
   "name": "python3"
  },
  "language_info": {
   "codemirror_mode": {
    "name": "ipython",
    "version": 3
   },
   "file_extension": ".py",
   "mimetype": "text/x-python",
   "name": "python",
   "nbconvert_exporter": "python",
   "pygments_lexer": "ipython3",
   "version": "3.11.2"
  }
 },
 "nbformat": 4,
 "nbformat_minor": 5
}
